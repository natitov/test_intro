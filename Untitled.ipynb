{
 "cells": [
  {
   "cell_type": "markdown",
   "metadata": {},
   "source": [
    "matplotlib, numpy, pandas, scipy, statsmodel, seaborn"
   ]
  },
  {
   "cell_type": "code",
   "execution_count": 6,
   "metadata": {},
   "outputs": [],
   "source": [
    "import pandas as pd"
   ]
  },
  {
   "cell_type": "code",
   "execution_count": 7,
   "metadata": {},
   "outputs": [],
   "source": [
    "import numpy as np"
   ]
  },
  {
   "cell_type": "code",
   "execution_count": 8,
   "metadata": {},
   "outputs": [],
   "source": [
    "import matplotlib.pyplot as plt"
   ]
  },
  {
   "cell_type": "code",
   "execution_count": 9,
   "metadata": {},
   "outputs": [],
   "source": [
    "import pandas_datareader as web"
   ]
  },
  {
   "cell_type": "code",
   "execution_count": 10,
   "metadata": {},
   "outputs": [],
   "source": [
    "symbols = ['AAPL','GOOGL','FB']"
   ]
  },
  {
   "cell_type": "code",
   "execution_count": 11,
   "metadata": {},
   "outputs": [],
   "source": [
    "price_data = web.get_data_yahoo(symbols, start = '2011-06-21', end = '2021-06-21')"
   ]
  },
  {
   "cell_type": "code",
   "execution_count": 12,
   "metadata": {},
   "outputs": [
    {
     "name": "stdout",
     "output_type": "stream",
     "text": [
      "Attributes  Adj Close                      Close                       High  \\\n",
      "Symbols          AAPL       GOOGL  FB       AAPL       GOOGL  FB       AAPL   \n",
      "Date                                                                          \n",
      "2011-06-21   9.990229  246.746750 NaN  11.617857  246.746750 NaN  11.635714   \n",
      "2011-06-22   9.907616  243.748749 NaN  11.521786  243.748749 NaN  11.746429   \n",
      "2011-06-23  10.172344  240.350357 NaN  11.829643  240.350357 NaN  11.846071   \n",
      "2011-06-24  10.022475  237.677673 NaN  11.655357  237.677673 NaN  11.898214   \n",
      "2011-06-27  10.197216  241.641647 NaN  11.858571  241.641647 NaN  11.925000   \n",
      "\n",
      "Attributes                        Low                       Open              \\\n",
      "Symbols          GOOGL  FB       AAPL       GOOGL  FB       AAPL       GOOGL   \n",
      "Date                                                                           \n",
      "2011-06-21  247.217224 NaN  11.257143  242.607605 NaN  11.310000  243.838837   \n",
      "2011-06-22  246.421417 NaN  11.513571  243.608612 NaN  11.612857  245.970978   \n",
      "2011-06-23  241.671677 NaN  11.361429  237.102097 NaN  11.390714  241.306305   \n",
      "2011-06-24  240.615616 NaN  11.610357  236.746750 NaN  11.834643  240.580582   \n",
      "2011-06-27  244.444443 NaN  11.687500  237.037033 NaN  11.699643  237.237244   \n",
      "\n",
      "Attributes           Volume                 \n",
      "Symbols     FB         AAPL      GOOGL  FB  \n",
      "Date                                        \n",
      "2011-06-21 NaN  493382400.0  5525269.0 NaN  \n",
      "2011-06-22 NaN  390583200.0  4809386.0 NaN  \n",
      "2011-06-23 NaN  559759200.0  9593797.0 NaN  \n",
      "2011-06-24 NaN  439807200.0  7603589.0 NaN  \n",
      "2011-06-27 NaN  339813600.0  6882511.0 NaN  \n"
     ]
    }
   ],
   "source": [
    "print(price_data.head())"
   ]
  },
  {
   "cell_type": "code",
   "execution_count": 13,
   "metadata": {},
   "outputs": [
    {
     "name": "stdout",
     "output_type": "stream",
     "text": [
      "Symbols          AAPL       GOOGL  FB\n",
      "Date                                 \n",
      "2011-06-21   9.990229  246.746750 NaN\n",
      "2011-06-22   9.907616  243.748749 NaN\n",
      "2011-06-23  10.172344  240.350357 NaN\n",
      "2011-06-24  10.022475  237.677673 NaN\n",
      "2011-06-27  10.197216  241.641647 NaN\n"
     ]
    }
   ],
   "source": [
    "price_data = price_data['Adj Close']\n",
    "print(price_data.head())"
   ]
  },
  {
   "cell_type": "code",
   "execution_count": 14,
   "metadata": {},
   "outputs": [],
   "source": [
    "w = [1/3,1/3,1/3]"
   ]
  },
  {
   "cell_type": "code",
   "execution_count": 15,
   "metadata": {},
   "outputs": [],
   "source": [
    "ret_data = price_data.pct_change()[1:]"
   ]
  },
  {
   "cell_type": "code",
   "execution_count": 16,
   "metadata": {},
   "outputs": [
    {
     "name": "stdout",
     "output_type": "stream",
     "text": [
      "Symbols         AAPL     GOOGL  FB\n",
      "Date                              \n",
      "2011-06-22 -0.008269 -0.012150 NaN\n",
      "2011-06-23  0.026720 -0.013942 NaN\n",
      "2011-06-24 -0.014733 -0.011120 NaN\n",
      "2011-06-27  0.017435  0.016678 NaN\n",
      "2011-06-28  0.009698  0.022473 NaN\n"
     ]
    }
   ],
   "source": [
    "print(ret_data.head())"
   ]
  },
  {
   "cell_type": "code",
   "execution_count": 17,
   "metadata": {},
   "outputs": [
    {
     "name": "stdout",
     "output_type": "stream",
     "text": [
      "Symbols         AAPL     GOOGL  FB\n",
      "Date                              \n",
      "2011-06-22 -0.002756 -0.004050 NaN\n",
      "2011-06-23  0.008907 -0.004647 NaN\n",
      "2011-06-24 -0.004911 -0.003707 NaN\n",
      "2011-06-27  0.005812  0.005559 NaN\n",
      "2011-06-28  0.003233  0.007491 NaN\n"
     ]
    }
   ],
   "source": [
    "weighted_returns = (w * ret_data)\n",
    "print(weighted_returns.head())"
   ]
  },
  {
   "cell_type": "code",
   "execution_count": null,
   "metadata": {},
   "outputs": [],
   "source": []
  }
 ],
 "metadata": {
  "kernelspec": {
   "display_name": "Python 3",
   "language": "python",
   "name": "python3"
  },
  "language_info": {
   "codemirror_mode": {
    "name": "ipython",
    "version": 3
   },
   "file_extension": ".py",
   "mimetype": "text/x-python",
   "name": "python",
   "nbconvert_exporter": "python",
   "pygments_lexer": "ipython3",
   "version": "3.8.5"
  }
 },
 "nbformat": 4,
 "nbformat_minor": 4
}
